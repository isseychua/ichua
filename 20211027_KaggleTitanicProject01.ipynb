{
 "cells": [
  {
   "cell_type": "code",
   "execution_count": 1,
   "id": "70d80d24",
   "metadata": {},
   "outputs": [
    {
     "name": "stdout",
     "output_type": "stream",
     "text": [
      "Source/gender_submission.csv\n",
      "Source/test.csv\n",
      "Source/train.csv\n"
     ]
    }
   ],
   "source": [
    "#Import relevant packages\n",
    "#Join directories\n",
    "import numpy as np\n",
    "import pandas as pd \n",
    "import seaborn as sns \n",
    "import matplotlib.pyplot as plt\n",
    "import os\n",
    "\n",
    "for root,sub_dir, filenames in os.walk('Source'):\n",
    "    for filename in filenames:\n",
    "        print(root + \"/\" + filename)\n",
    "        #print(os.path.join(dirname, filename).replace(\"\\\\\",\"/\"))"
   ]
  },
  {
   "cell_type": "code",
   "execution_count": 2,
   "id": "bc20f97a",
   "metadata": {},
   "outputs": [],
   "source": [
    "#Read CSV\n",
    "data_training=pd.read_csv(\"Source/train.csv\")\n",
    "data_test=pd.read_csv(\"Source/test.csv\")"
   ]
  },
  {
   "cell_type": "code",
   "execution_count": 3,
   "id": "46e21e4b",
   "metadata": {},
   "outputs": [
    {
     "name": "stdout",
     "output_type": "stream",
     "text": [
      "   PassengerId  Survived  Pclass  \\\n",
      "0            1         0       3   \n",
      "1            2         1       1   \n",
      "2            3         1       3   \n",
      "3            4         1       1   \n",
      "4            5         0       3   \n",
      "\n",
      "                                                Name     Sex   Age  SibSp  \\\n",
      "0                            Braund, Mr. Owen Harris    male  22.0      1   \n",
      "1  Cumings, Mrs. John Bradley (Florence Briggs Th...  female  38.0      1   \n",
      "2                             Heikkinen, Miss. Laina  female  26.0      0   \n",
      "3       Futrelle, Mrs. Jacques Heath (Lily May Peel)  female  35.0      1   \n",
      "4                           Allen, Mr. William Henry    male  35.0      0   \n",
      "\n",
      "   Parch            Ticket     Fare Cabin Embarked  \n",
      "0      0         A/5 21171   7.2500   NaN        S  \n",
      "1      0          PC 17599  71.2833   C85        C  \n",
      "2      0  STON/O2. 3101282   7.9250   NaN        S  \n",
      "3      0            113803  53.1000  C123        S  \n",
      "4      0            373450   8.0500   NaN        S  \n",
      "   PassengerId  Pclass                                          Name     Sex  \\\n",
      "0          892       3                              Kelly, Mr. James    male   \n",
      "1          893       3              Wilkes, Mrs. James (Ellen Needs)  female   \n",
      "2          894       2                     Myles, Mr. Thomas Francis    male   \n",
      "3          895       3                              Wirz, Mr. Albert    male   \n",
      "4          896       3  Hirvonen, Mrs. Alexander (Helga E Lindqvist)  female   \n",
      "\n",
      "    Age  SibSp  Parch   Ticket     Fare Cabin Embarked  \n",
      "0  34.5      0      0   330911   7.8292   NaN        Q  \n",
      "1  47.0      1      0   363272   7.0000   NaN        S  \n",
      "2  62.0      0      0   240276   9.6875   NaN        Q  \n",
      "3  27.0      0      0   315154   8.6625   NaN        S  \n",
      "4  22.0      1      1  3101298  12.2875   NaN        S  \n",
      "<class 'pandas.core.frame.DataFrame'>\n",
      "RangeIndex: 891 entries, 0 to 890\n",
      "Data columns (total 12 columns):\n",
      " #   Column       Non-Null Count  Dtype  \n",
      "---  ------       --------------  -----  \n",
      " 0   PassengerId  891 non-null    int64  \n",
      " 1   Survived     891 non-null    int64  \n",
      " 2   Pclass       891 non-null    int64  \n",
      " 3   Name         891 non-null    object \n",
      " 4   Sex          891 non-null    object \n",
      " 5   Age          714 non-null    float64\n",
      " 6   SibSp        891 non-null    int64  \n",
      " 7   Parch        891 non-null    int64  \n",
      " 8   Ticket       891 non-null    object \n",
      " 9   Fare         891 non-null    float64\n",
      " 10  Cabin        204 non-null    object \n",
      " 11  Embarked     889 non-null    object \n",
      "dtypes: float64(2), int64(5), object(5)\n",
      "memory usage: 83.7+ KB\n",
      "None\n",
      "<class 'pandas.core.frame.DataFrame'>\n",
      "RangeIndex: 418 entries, 0 to 417\n",
      "Data columns (total 11 columns):\n",
      " #   Column       Non-Null Count  Dtype  \n",
      "---  ------       --------------  -----  \n",
      " 0   PassengerId  418 non-null    int64  \n",
      " 1   Pclass       418 non-null    int64  \n",
      " 2   Name         418 non-null    object \n",
      " 3   Sex          418 non-null    object \n",
      " 4   Age          332 non-null    float64\n",
      " 5   SibSp        418 non-null    int64  \n",
      " 6   Parch        418 non-null    int64  \n",
      " 7   Ticket       418 non-null    object \n",
      " 8   Fare         417 non-null    float64\n",
      " 9   Cabin        91 non-null     object \n",
      " 10  Embarked     418 non-null    object \n",
      "dtypes: float64(2), int64(4), object(5)\n",
      "memory usage: 36.0+ KB\n",
      "None\n",
      "       PassengerId    Survived      Pclass         Age       SibSp  \\\n",
      "count   891.000000  891.000000  891.000000  714.000000  891.000000   \n",
      "mean    446.000000    0.383838    2.308642   29.699118    0.523008   \n",
      "std     257.353842    0.486592    0.836071   14.526497    1.102743   \n",
      "min       1.000000    0.000000    1.000000    0.420000    0.000000   \n",
      "25%     223.500000    0.000000    2.000000   20.125000    0.000000   \n",
      "50%     446.000000    0.000000    3.000000   28.000000    0.000000   \n",
      "75%     668.500000    1.000000    3.000000   38.000000    1.000000   \n",
      "max     891.000000    1.000000    3.000000   80.000000    8.000000   \n",
      "\n",
      "            Parch        Fare  \n",
      "count  891.000000  891.000000  \n",
      "mean     0.381594   32.204208  \n",
      "std      0.806057   49.693429  \n",
      "min      0.000000    0.000000  \n",
      "25%      0.000000    7.910400  \n",
      "50%      0.000000   14.454200  \n",
      "75%      0.000000   31.000000  \n",
      "max      6.000000  512.329200  \n"
     ]
    }
   ],
   "source": [
    "#Print dataframe for inspection\n",
    "print(data_training.head())\n",
    "print(data_test.head())\n",
    "print(data_training.info())\n",
    "print(data_test.info())\n",
    "print(data_training.describe())"
   ]
  },
  {
   "cell_type": "code",
   "execution_count": 4,
   "id": "55af2a5a",
   "metadata": {},
   "outputs": [
    {
     "data": {
      "text/plain": [
       "<AxesSubplot:xlabel='Age', ylabel='Density'>"
      ]
     },
     "execution_count": 4,
     "metadata": {},
     "output_type": "execute_result"
    },
    {
     "data": {
      "image/png": "[encoded data removed]",
      "text/plain": [
       "<Figure size 432x288 with 1 Axes>"
      ]
     },
     "metadata": {
      "needs_background": "light"
     },
     "output_type": "display_data"
    }
   ],
   "source": [
    "sns.kdeplot(data=data_training,x=\"Age\",hue=\"Sex\",shade=True)"
   ]
  },
  {
   "cell_type": "code",
   "execution_count": 5,
   "id": "07c4ec51",
   "metadata": {},
   "outputs": [],
   "source": [
    "#Standardise DataFrame\n",
    "    #Add Column: data_test[\"Survived\"], train,train_test,1. test,train_test,0.\n",
    "    #Add Empty cells: Train,Age,177. Train,Age,687. Train,Embarked,2. Test,Age,86. Test,Fare,1. Test,Cabin,327.\n",
    "\n",
    "data_test[\"Survived\"]=np.NaN\n",
    "data_training[\"train_test\"]=1\n",
    "data_test[\"train_test\"]=0\n",
    "all_data=pd.concat([data_training,data_test])"
   ]
  },
  {
   "cell_type": "code",
   "execution_count": 6,
   "id": "2bc02c3c",
   "metadata": {},
   "outputs": [],
   "source": [
    "#Split data_training into Numerical and Categorical\n",
    "data_training_num=data_training[[\"Age\",\"SibSp\",\"Parch\",\"Fare\"]]\n",
    "data_training_cat=data_training[[\"Survived\",\"Pclass\",\"Name\",\"Sex\",\"Ticket\",\"Cabin\",\"Embarked\"]]"
   ]
  },
  {
   "cell_type": "code",
   "execution_count": 7,
   "id": "b0d90f82",
   "metadata": {},
   "outputs": [
    {
     "data": {
      "image/png": "[encoded data removed]",
      "text/plain": [
       "<Figure size 432x288 with 1 Axes>"
      ]
     },
     "metadata": {
      "needs_background": "light"
     },
     "output_type": "display_data"
    },
    {
     "data": {
      "image/png": "[encoded data removed]",
      "text/plain": [
       "<Figure size 432x288 with 1 Axes>"
      ]
     },
     "metadata": {
      "needs_background": "light"
     },
     "output_type": "display_data"
    },
    {
     "data": {
      "image/png": "[encoded data removed]",
      "text/plain": [
       "<Figure size 432x288 with 1 Axes>"
      ]
     },
     "metadata": {
      "needs_background": "light"
     },
     "output_type": "display_data"
    },
    {
     "data": {
      "image/png": "[encoded data removed]",
      "text/plain": [
       "<Figure size 432x288 with 1 Axes>"
      ]
     },
     "metadata": {
      "needs_background": "light"
     },
     "output_type": "display_data"
    },
    {
     "data": {
      "text/plain": [
       "<Figure size 432x288 with 0 Axes>"
      ]
     },
     "metadata": {},
     "output_type": "display_data"
    }
   ],
   "source": [
    "#Plot Histogram for all numeric columns\n",
    "#fig,axs=plt.subplots(nrows=len(data_training_num.columns))\n",
    "for i in data_training_num:\n",
    "    #sns.histplot(data=data_training_num,x=c,ax=axs[i],bins=20)\n",
    "    plt.hist(data_training_num[i])\n",
    "    plt.title(i)\n",
    "    plt.show()\n",
    "    plt.clf()"
   ]
  },
  {
   "cell_type": "code",
   "execution_count": 8,
   "id": "94789e76",
   "metadata": {},
   "outputs": [
    {
     "name": "stdout",
     "output_type": "stream",
     "text": [
      "            Age     SibSp     Parch      Fare\n",
      "Age    1.000000 -0.308247 -0.189119  0.096067\n",
      "SibSp -0.308247  1.000000  0.414838  0.159651\n",
      "Parch -0.189119  0.414838  1.000000  0.216225\n",
      "Fare   0.096067  0.159651  0.216225  1.000000\n",
      "                Age       Fare     Parch     SibSp\n",
      "Survived                                          \n",
      "0         30.626179  22.117887  0.329690  0.553734\n",
      "1         28.343690  48.395408  0.464912  0.473684\n"
     ]
    },
    {
     "data": {
      "image/png": "[encoded data removed]",
      "text/plain": [
       "<Figure size 432x288 with 2 Axes>"
      ]
     },
     "metadata": {
      "needs_background": "light"
     },
     "output_type": "display_data"
    }
   ],
   "source": [
    "#Inspect correlation between numeric columns\n",
    "print(data_training_num.corr())\n",
    "sns.heatmap(data_training_num.corr(),linewidth=0.5)\n",
    "print(pd.pivot_table(data_training, index = 'Survived', values = ['Age','SibSp','Parch','Fare']))"
   ]
  },
  {
   "cell_type": "code",
   "execution_count": null,
   "id": "888241df",
   "metadata": {
    "scrolled": true
   },
   "outputs": [
    {
     "data": {
      "image/png": "[encoded data removed]",
      "text/plain": [
       "<Figure size 432x288 with 1 Axes>"
      ]
     },
     "metadata": {
      "needs_background": "light"
     },
     "output_type": "display_data"
    },
    {
     "data": {
      "image/png": "[encoded data removed]",
      "text/plain": [
       "<Figure size 432x288 with 1 Axes>"
      ]
     },
     "metadata": {
      "needs_background": "light"
     },
     "output_type": "display_data"
    },
    {
     "data": {
      "image/png": "[encoded data removed]",
      "text/plain": [
       "<Figure size 432x288 with 1 Axes>"
      ]
     },
     "metadata": {
      "needs_background": "light"
     },
     "output_type": "display_data"
    },
    {
     "data": {
      "image/png": "[encoded data removed]",
      "text/plain": [
       "<Figure size 432x288 with 1 Axes>"
      ]
     },
     "metadata": {
      "needs_background": "light"
     },
     "output_type": "display_data"
    }
   ],
   "source": [
    "for i in data_training_cat:\n",
    "    plt.bar(data_training_cat[i].value_counts().index,data_training_cat[i].value_counts(),color=['red', 'yellow', 'black', 'blue', 'orange'])\n",
    "    plt.title(i)\n",
    "    plt.show()"
   ]
  },
  {
   "cell_type": "code",
   "execution_count": null,
   "id": "738e1403",
   "metadata": {},
   "outputs": [],
   "source": [
    "# Comparing survival and each of these categorical variables \n",
    "print(pd.pivot_table(data_training_cat, index = 'Survived', columns = 'Pclass',aggfunc ='count'))\n",
    "print(\"\\n\")\n",
    "print(pd.pivot_table(data_training_cat, index = 'Survived', columns = 'Sex',aggfunc ='count'))\n",
    "print(\"\\n\")\n",
    "print(pd.pivot_table(data_training_cat, index = 'Survived', columns = 'Embarked',aggfunc ='count'))"
   ]
  },
  {
   "cell_type": "code",
   "execution_count": null,
   "id": "2156fa3b",
   "metadata": {},
   "outputs": [],
   "source": [
    "#Feature Engineering for Cabin\n",
    "#Split the string and plot a bar chart.\n",
    "data_training['Cabin_Multiple'] = data_training.Cabin.apply(lambda x: 0 if pd.isna(x) else len(x.split(' ')))\n",
    "print(data_training['Cabin_Multiple'].value_counts())\n",
    "plt.bar(data_training[\"Cabin_Multiple\"].value_counts().index,data_training[\"Cabin_Multiple\"].value_counts(),color=['red', 'yellow', 'black', 'blue', 'orange'])"
   ]
  },
  {
   "cell_type": "code",
   "execution_count": null,
   "id": "eba9c7cb",
   "metadata": {},
   "outputs": [],
   "source": [
    "#Inspect using a pivot table\n",
    "print(pd.pivot_table(data_training, index = 'Survived', columns = 'Cabin_Multiple', aggfunc ='count'))"
   ]
  },
  {
   "cell_type": "code",
   "execution_count": null,
   "id": "a5d03bcf",
   "metadata": {},
   "outputs": [],
   "source": [
    "#Feature Engineering\n",
    "#Extract first letter of ticket.\n",
    "data_training[\"Cabin_Adv\"]=data_training[\"Cabin\"].apply(lambda x: str(x)[0])\n",
    "#print(data_training[\"Cabin_Adv\"])\n",
    "print(data_training.Cabin_Adv.value_counts())\n",
    "data_trial=data_training[[\"Cabin_Adv\",\"Fare\"]]\n",
    "data_trial_n_Cabin=data_training[data_training[\"Cabin_Adv\"]==\"n\"]\n",
    "print(data_trial_n_Cabin.describe())\n",
    "data_trial_groupby=data_trial.groupby([\"Cabin_Adv\"]).mean()\n",
    "print(data_trial_groupby)\n",
    "#n Cabin is around the same as F,G Cabin. The other Cabins are mean price more expensive than n,F and G.\n",
    "sns.scatterplot(x=\"Cabin_Adv\",y=\"Fare\",data=data_trial)\n",
    "#plt.bar(data_training[\"Cabin_Adv\"].value_counts().index,data_training[\"Cabin_Adv\"].value_counts(),color=['red', 'yellow', 'black', 'blue', 'orange'])\n",
    "print(pd.pivot_table(data_training,index='Survived',columns='Cabin_Adv', values = 'Name', aggfunc='count'))"
   ]
  },
  {
   "cell_type": "code",
   "execution_count": null,
   "id": "e5097ca7",
   "metadata": {},
   "outputs": [],
   "source": [
    "#Feature Engineering for Ticket\n",
    "data_training['numeric_ticket'] = data_training.Ticket.apply(lambda x: 1 if x.isnumeric() else 0)\n",
    "data_training['ticket_letters'] = data_training.Ticket.apply(lambda x: ''.join(x.split(' ')[:-1]).replace('.','').replace('/','').lower() if len(x.split(' ')[:-1]) >0 else 0)\n",
    "print(data_training[\"ticket_letters\"])"
   ]
  },
  {
   "cell_type": "code",
   "execution_count": null,
   "id": "3ff8730f",
   "metadata": {},
   "outputs": [],
   "source": [
    "print(data_training['numeric_ticket'].value_counts())\n",
    "print(data_training['ticket_letters'].value_counts())"
   ]
  },
  {
   "cell_type": "code",
   "execution_count": null,
   "id": "9d6f9261",
   "metadata": {},
   "outputs": [],
   "source": [
    "print(pd.pivot_table(data_training,index=\"Survived\",columns=\"numeric_ticket\",aggfunc=\"count\"))"
   ]
  },
  {
   "cell_type": "code",
   "execution_count": null,
   "id": "2ea544bf",
   "metadata": {},
   "outputs": [],
   "source": [
    "data_training['name_title'] = data_training.Name.apply(lambda x: x.split(' ')[1])\n",
    "print(data_training['name_title'].value_counts())"
   ]
  },
  {
   "cell_type": "code",
   "execution_count": null,
   "id": "aec1542c",
   "metadata": {},
   "outputs": [],
   "source": [
    "all_data['cabin_multiple'] = all_data.Cabin.apply(lambda x: 0 if pd.isna(x) else len(x.split(' ')))\n",
    "all_data['cabin_adv'] = all_data.Cabin.apply(lambda x: str(x)[0])\n",
    "all_data['numeric_ticket'] = all_data.Ticket.apply(lambda x: 1 if x.isnumeric() else 0)\n",
    "all_data['ticket_letters'] = all_data.Ticket.apply(lambda x: ''.join(x.split(' ')[:-1]).replace('.','').replace('/','').lower() if len(x.split(' ')[:-1]) >0 else 0)\n",
    "all_data['name_title'] = all_data.Name.apply(lambda x: x.split(',')[1].split('.')[0].strip())\n",
    "\n",
    "#impute nulls for continuous data \n",
    "#all_data.Age = all_data.Age.fillna(training.Age.mean())\n",
    "all_data.Age = all_data.Age.fillna(data_training.Age.median())\n",
    "#all_data.Fare = all_data.Fare.fillna(training.Fare.mean())\n",
    "all_data.Fare = all_data.Fare.fillna(data_training.Fare.median())\n",
    "\n",
    "#drop null 'embarked' rows. Only 2 instances of this in training and 0 in test \n",
    "all_data.dropna(subset=['Embarked'],inplace = True)\n",
    "\n",
    "#tried log norm of sibsp (not used)\n",
    "all_data['norm_sibsp'] = np.log(all_data.SibSp+1)\n",
    "all_data['norm_sibsp'].hist()\n",
    "\n",
    "# log norm of fare (used)\n",
    "all_data['norm_fare'] = np.log(all_data.Fare+1)\n",
    "all_data['norm_fare'].hist()\n",
    "\n",
    "# converted fare to category for pd.get_dummies()\n",
    "all_data.Pclass = all_data.Pclass.astype(str)\n",
    "\n",
    "#created dummy variables from categories (also can use OneHotEncoder)\n",
    "all_dummies = pd.get_dummies(all_data[['Pclass','Sex','Age','SibSp','Parch','norm_fare','Embarked','cabin_adv','cabin_multiple','numeric_ticket','name_title','train_test']])\n",
    "print(all_dummies.columns)\n",
    "print(all_dummies.head())\n",
    "#Split to train test again\n",
    "X_train = all_dummies[all_dummies.train_test == 1].drop(['train_test'], axis =1)\n",
    "X_test = all_dummies[all_dummies.train_test == 0].drop(['train_test'], axis =1)\n",
    "\n",
    "\n",
    "y_train = all_data[all_data.train_test==1].Survived\n",
    "y_train.shape"
   ]
  },
  {
   "cell_type": "code",
   "execution_count": null,
   "id": "003c2295",
   "metadata": {},
   "outputs": [],
   "source": [
    "# Scale data \n",
    "from sklearn.preprocessing import StandardScaler\n",
    "scale = StandardScaler()\n",
    "all_dummies_scaled = all_dummies.copy()\n",
    "all_dummies_scaled[['Age','SibSp','Parch','norm_fare']]= scale.fit_transform(all_dummies_scaled[['Age','SibSp','Parch','norm_fare']])\n",
    "all_dummies_scaled\n",
    "\n",
    "X_train_scaled = all_dummies_scaled[all_dummies_scaled.train_test == 1].drop(['train_test'], axis =1)\n",
    "X_test_scaled = all_dummies_scaled[all_dummies_scaled.train_test == 0].drop(['train_test'], axis =1)\n",
    "\n",
    "y_train = all_data[all_data.train_test==1].Survived"
   ]
  }
 ],
 "metadata": {
  "kernelspec": {
   "display_name": "Python 3 (ipykernel)",
   "language": "python",
   "name": "python3"
  },
  "language_info": {
   "codemirror_mode": {
    "name": "ipython",
    "version": 3
   },
   "file_extension": ".py",
   "mimetype": "text/x-python",
   "name": "python",
   "nbconvert_exporter": "python",
   "pygments_lexer": "ipython3",
   "version": "3.9.4"
  }
 },
 "nbformat": 4,
 "nbformat_minor": 5
}
